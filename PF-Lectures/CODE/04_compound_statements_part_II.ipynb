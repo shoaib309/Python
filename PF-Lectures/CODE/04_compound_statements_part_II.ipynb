{
 "cells": [
  {
   "cell_type": "markdown",
   "metadata": {
    "slideshow": {
     "slide_type": "slide"
    }
   },
   "source": [
    "### Square root! \n",
    "\n",
    "Back to our square root example! We can finally write code for our algo. "
   ]
  },
  {
   "cell_type": "code",
   "execution_count": null,
   "metadata": {
    "slideshow": {
     "slide_type": "slide"
    }
   },
   "outputs": [],
   "source": [
    "def sqrt(x, guess = 0.0): \n",
    "    if x < 0: \n",
    "        return None \n",
    "    \n",
    "    if good_enough(guess, x): \n",
    "        return guess \n",
    "    \n",
    "    else: \n",
    "        new_guess = improve_guess(guess, x)  \n",
    "        return sqrt(x, new_guess)\n",
    "    \n",
    "\n"
   ]
  },
  {
   "cell_type": "code",
   "execution_count": null,
   "metadata": {
    "slideshow": {
     "slide_type": "slide"
    }
   },
   "outputs": [],
   "source": [
    "def good_enough(guess, x): \n",
    "    if abs(guess * guess - x) < 0.1: \n",
    "        return True\n",
    "    else: \n",
    "        return False \n",
    "    \n",
    "    "
   ]
  },
  {
   "cell_type": "code",
   "execution_count": null,
   "metadata": {
    "slideshow": {
     "slide_type": "fragment"
    }
   },
   "outputs": [],
   "source": [
    "def improve_guess(guess, x): \n",
    "    if guess < x: \n",
    "        return guess + 0.1 \n",
    "    else: \n",
    "        return guess - 0.1 \n",
    "    \n",
    "    "
   ]
  },
  {
   "cell_type": "code",
   "execution_count": null,
   "metadata": {
    "slideshow": {
     "slide_type": "slide"
    }
   },
   "outputs": [],
   "source": [
    "print(sqrt(4, 1.8))     # for the tutor, give stating guess as 1.8"
   ]
  },
  {
   "cell_type": "code",
   "execution_count": null,
   "metadata": {},
   "outputs": [],
   "source": [
    "print(sqrt(-2))  # let's also handle this case in our function "
   ]
  },
  {
   "cell_type": "markdown",
   "metadata": {
    "slideshow": {
     "slide_type": "slide"
    }
   },
   "source": [
    "## Reading Assignment \n",
    "\n",
    "* Section *2.2 Branching Programs* from the Guttag's python book.\n",
    "* Composing Programs: *Chapter 1.5 Control* upto and including *1.5.4 Conditional Statements* (meaning, stop when you reach 1.5.5 (http://www.composingprograms.com/pages/15-control.html)"
   ]
  }
 ],
 "metadata": {
  "celltoolbar": "Slideshow",
  "kernelspec": {
   "display_name": "Python 3",
   "language": "python",
   "name": "python3"
  },
  "language_info": {
   "codemirror_mode": {
    "name": "ipython",
    "version": 3
   },
   "file_extension": ".py",
   "mimetype": "text/x-python",
   "name": "python",
   "nbconvert_exporter": "python",
   "pygments_lexer": "ipython3",
   "version": "3.6.4"
  },
  "livereveal": {
   "transition": "fade"
  }
 },
 "nbformat": 4,
 "nbformat_minor": 2
}
